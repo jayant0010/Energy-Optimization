{
  "nbformat": 4,
  "nbformat_minor": 0,
  "metadata": {
    "colab": {
      "provenance": []
    },
    "kernelspec": {
      "name": "python3",
      "display_name": "Python 3"
    },
    "language_info": {
      "name": "python"
    }
  },
  "cells": [
    {
      "cell_type": "code",
      "source": [
        "pip install pyomo"
      ],
      "metadata": {
        "colab": {
          "base_uri": "https://localhost:8080/"
        },
        "id": "spiPMOVBvYaK",
        "outputId": "b2578e4a-94ba-48a2-aff3-52195f6f6edc"
      },
      "execution_count": 1,
      "outputs": [
        {
          "output_type": "stream",
          "name": "stdout",
          "text": [
            "Collecting pyomo\n",
            "  Downloading Pyomo-6.7.3-cp310-cp310-manylinux_2_17_x86_64.manylinux2014_x86_64.whl (12.8 MB)\n",
            "\u001b[2K     \u001b[90m━━━━━━━━━━━━━━━━━━━━━━━━━━━━━━━━━━━━━━━━\u001b[0m \u001b[32m12.8/12.8 MB\u001b[0m \u001b[31m10.9 MB/s\u001b[0m eta \u001b[36m0:00:00\u001b[0m\n",
            "\u001b[?25hCollecting ply (from pyomo)\n",
            "  Downloading ply-3.11-py2.py3-none-any.whl (49 kB)\n",
            "\u001b[2K     \u001b[90m━━━━━━━━━━━━━━━━━━━━━━━━━━━━━━━━━━━━━━━━\u001b[0m \u001b[32m49.6/49.6 kB\u001b[0m \u001b[31m5.3 MB/s\u001b[0m eta \u001b[36m0:00:00\u001b[0m\n",
            "\u001b[?25hInstalling collected packages: ply, pyomo\n",
            "Successfully installed ply-3.11 pyomo-6.7.3\n"
          ]
        }
      ]
    },
    {
      "cell_type": "code",
      "source": [
        "!apt-get install -y -qq glpk-utils"
      ],
      "metadata": {
        "colab": {
          "base_uri": "https://localhost:8080/"
        },
        "id": "1ZEIHJIkvqVJ",
        "outputId": "f626c7c4-1940-4c41-ed4e-ad359346fd53"
      },
      "execution_count": 3,
      "outputs": [
        {
          "output_type": "stream",
          "name": "stdout",
          "text": [
            "Selecting previously unselected package libsuitesparseconfig5:amd64.\n",
            "(Reading database ... 123586 files and directories currently installed.)\n",
            "Preparing to unpack .../libsuitesparseconfig5_1%3a5.10.1+dfsg-4build1_amd64.deb ...\n",
            "Unpacking libsuitesparseconfig5:amd64 (1:5.10.1+dfsg-4build1) ...\n",
            "Selecting previously unselected package libamd2:amd64.\n",
            "Preparing to unpack .../libamd2_1%3a5.10.1+dfsg-4build1_amd64.deb ...\n",
            "Unpacking libamd2:amd64 (1:5.10.1+dfsg-4build1) ...\n",
            "Selecting previously unselected package libcolamd2:amd64.\n",
            "Preparing to unpack .../libcolamd2_1%3a5.10.1+dfsg-4build1_amd64.deb ...\n",
            "Unpacking libcolamd2:amd64 (1:5.10.1+dfsg-4build1) ...\n",
            "Selecting previously unselected package libglpk40:amd64.\n",
            "Preparing to unpack .../libglpk40_5.0-1_amd64.deb ...\n",
            "Unpacking libglpk40:amd64 (5.0-1) ...\n",
            "Selecting previously unselected package glpk-utils.\n",
            "Preparing to unpack .../glpk-utils_5.0-1_amd64.deb ...\n",
            "Unpacking glpk-utils (5.0-1) ...\n",
            "Setting up libsuitesparseconfig5:amd64 (1:5.10.1+dfsg-4build1) ...\n",
            "Setting up libamd2:amd64 (1:5.10.1+dfsg-4build1) ...\n",
            "Setting up libcolamd2:amd64 (1:5.10.1+dfsg-4build1) ...\n",
            "Setting up libglpk40:amd64 (5.0-1) ...\n",
            "Setting up glpk-utils (5.0-1) ...\n",
            "Processing triggers for man-db (2.10.2-1) ...\n",
            "Processing triggers for libc-bin (2.35-0ubuntu3.4) ...\n",
            "/sbin/ldconfig.real: /usr/local/lib/libtbbmalloc.so.2 is not a symbolic link\n",
            "\n",
            "/sbin/ldconfig.real: /usr/local/lib/libtbbbind_2_5.so.3 is not a symbolic link\n",
            "\n",
            "/sbin/ldconfig.real: /usr/local/lib/libtbbmalloc_proxy.so.2 is not a symbolic link\n",
            "\n",
            "/sbin/ldconfig.real: /usr/local/lib/libtbbbind_2_0.so.3 is not a symbolic link\n",
            "\n",
            "/sbin/ldconfig.real: /usr/local/lib/libtbb.so.12 is not a symbolic link\n",
            "\n",
            "/sbin/ldconfig.real: /usr/local/lib/libtbbbind.so.3 is not a symbolic link\n",
            "\n"
          ]
        }
      ]
    },
    {
      "cell_type": "code",
      "execution_count": 1,
      "metadata": {
        "id": "3-NqvzEHvVnY"
      },
      "outputs": [],
      "source": [
        "import pyomo.environ as pyo\n",
        "from pyomo.opt import SolverFactory\n",
        "\n",
        "# Define the model\n",
        "model = pyo.ConcreteModel()\n",
        "\n",
        "# Time periods (hours of the day)\n",
        "T = range(24)\n",
        "\n",
        "# Parameters\n",
        "heating_demand = [1, 1, 1, 1, 2, 3, 4, 5, 6, 7, 8, 7, 6, 5, 4, 3, 2, 1, 1, 1, 1, 1, 1, 1]  # in kWh\n",
        "cooling_demand = [0, 0, 0, 0, 0, 0, 0, 0, 0, 0, 0, 0, 0, 0, 0, 0, 0, 0, 0, 0, 0, 0, 0, 0]  # in kWh\n",
        "solar_generation = [0, 0, 0, 0, 0, 0, 0, 1, 2, 3, 4, 5, 4, 3, 2, 1, 0, 0, 0, 0, 0, 0, 0, 0]  # in kWh\n",
        "electricity_prices = [0.1, 0.1, 0.1, 0.1, 0.1, 0.1, 0.1, 0.15, 0.15, 0.15, 0.2, 0.2, 0.2, 0.2, 0.15, 0.15, 0.15, 0.1, 0.1, 0.1, 0.1, 0.1, 0.1, 0.1]  # in $/kWh\n",
        "battery_capacity = 10  # in kWh\n",
        "battery_max_charge = 5  # in kW\n",
        "battery_initial_charge = 5  # in kWh\n",
        "\n"
      ]
    },
    {
      "cell_type": "code",
      "source": [
        "# Decision variables\n",
        "model.grid_usage = pyo.Var(T, domain=pyo.NonNegativeReals)\n",
        "model.battery_charge = pyo.Var(T, domain=pyo.NonNegativeReals, bounds=(0, battery_max_charge))\n",
        "model.battery_discharge = pyo.Var(T, domain=pyo.NonNegativeReals, bounds=(0, battery_max_charge))\n",
        "model.battery_level = pyo.Var(T, domain=pyo.NonNegativeReals, bounds=(0, battery_capacity))\n"
      ],
      "metadata": {
        "id": "wN3d6PaewBED"
      },
      "execution_count": 2,
      "outputs": []
    },
    {
      "cell_type": "code",
      "source": [
        "\n",
        "# Constraints\n",
        "def energy_balance_rule(model, t):\n",
        "    if t == 0:\n",
        "        return model.battery_level[t] == battery_initial_charge + model.battery_charge[t] - model.battery_discharge[t]\n",
        "    else:\n",
        "        return model.battery_level[t] == model.battery_level[t-1] + model.battery_charge[t] - model.battery_discharge[t]\n",
        "\n",
        "model.energy_balance = pyo.Constraint(T, rule=energy_balance_rule)\n",
        "\n",
        "def demand_satisfaction_rule(model, t):\n",
        "    return model.grid_usage[t] + solar_generation[t] + model.battery_discharge[t] - model.battery_charge[t] >= heating_demand[t] + cooling_demand[t]\n",
        "\n",
        "model.demand_satisfaction = pyo.Constraint(T, rule=demand_satisfaction_rule)\n"
      ],
      "metadata": {
        "id": "LyZWZ6tJwD7Q"
      },
      "execution_count": 3,
      "outputs": []
    },
    {
      "cell_type": "code",
      "source": [
        "\n",
        "# Objective function\n",
        "model.cost = pyo.Objective(expr=sum(electricity_prices[t] * model.grid_usage[t] for t in T), sense=pyo.minimize)\n",
        "\n"
      ],
      "metadata": {
        "id": "OtM1CtDRwFwr"
      },
      "execution_count": 4,
      "outputs": []
    },
    {
      "cell_type": "code",
      "source": [
        "# Solve the model\n",
        "solver = SolverFactory('glpk')\n",
        "results = solver.solve(model, tee=True)\n",
        "\n",
        "# Display the results\n",
        "for t in T:\n",
        "    print(f\"Hour {t}: Grid usage = {model.grid_usage[t].value:.2f} kWh, Battery charge = {model.battery_charge[t].value:.2f} kWh, Battery discharge = {model.battery_discharge[t].value:.2f} kWh, Battery level = {model.battery_level[t].value:.2f} kWh\")\n",
        "print(f\"Total cost: {pyo.value(model.cost):.2f} $\")\n"
      ],
      "metadata": {
        "colab": {
          "base_uri": "https://localhost:8080/"
        },
        "id": "O79bwOMDwHgE",
        "outputId": "997bc57c-cc85-4dad-cd81-72cebd589176"
      },
      "execution_count": 5,
      "outputs": [
        {
          "output_type": "stream",
          "name": "stdout",
          "text": [
            "GLPSOL--GLPK LP/MIP Solver 5.0\n",
            "Parameter(s) specified in the command line:\n",
            " --write /tmp/tmpzb9rs8p1.glpk.raw --wglp /tmp/tmp35_iwjxx.glpk.glp --cpxlp\n",
            " /tmp/tmpqg8dj7ag.pyomo.lp\n",
            "Reading problem data from '/tmp/tmpqg8dj7ag.pyomo.lp'...\n",
            "48 rows, 96 columns, 167 non-zeros\n",
            "440 lines were read\n",
            "Writing problem data to '/tmp/tmp35_iwjxx.glpk.glp'...\n",
            "435 lines were written\n",
            "GLPK Simplex Optimizer 5.0\n",
            "48 rows, 96 columns, 167 non-zeros\n",
            "Preprocessing...\n",
            "48 rows, 95 columns, 166 non-zeros\n",
            "Scaling...\n",
            " A: min|aij| =  1.000e+00  max|aij| =  1.000e+00  ratio =  1.000e+00\n",
            "Problem data seem to be well scaled\n",
            "Constructing initial basis...\n",
            "Size of triangular part is 48\n",
            "      0: obj =   0.000000000e+00 inf =   4.700e+01 (23)\n",
            "     23: obj =   6.600000000e+00 inf =   0.000e+00 (0)\n",
            "*    41: obj =   5.200000000e+00 inf =   0.000e+00 (0)\n",
            "OPTIMAL LP SOLUTION FOUND\n",
            "Time used:   0.0 secs\n",
            "Memory used: 0.1 Mb (116915 bytes)\n",
            "Writing basic solution to '/tmp/tmpzb9rs8p1.glpk.raw'...\n",
            "153 lines were written\n",
            "Hour 0: Grid usage = 0.00 kWh, Battery charge = 0.00 kWh, Battery discharge = 1.00 kWh, Battery level = 4.00 kWh\n",
            "Hour 1: Grid usage = 0.00 kWh, Battery charge = 0.00 kWh, Battery discharge = 1.00 kWh, Battery level = 3.00 kWh\n",
            "Hour 2: Grid usage = 0.00 kWh, Battery charge = 0.00 kWh, Battery discharge = 1.00 kWh, Battery level = 2.00 kWh\n",
            "Hour 3: Grid usage = 0.00 kWh, Battery charge = 0.00 kWh, Battery discharge = 1.00 kWh, Battery level = 1.00 kWh\n",
            "Hour 4: Grid usage = 2.00 kWh, Battery charge = 0.00 kWh, Battery discharge = 0.00 kWh, Battery level = 1.00 kWh\n",
            "Hour 5: Grid usage = 7.00 kWh, Battery charge = 4.00 kWh, Battery discharge = 0.00 kWh, Battery level = 5.00 kWh\n",
            "Hour 6: Grid usage = 9.00 kWh, Battery charge = 5.00 kWh, Battery discharge = 0.00 kWh, Battery level = 10.00 kWh\n",
            "Hour 7: Grid usage = 0.00 kWh, Battery charge = 0.00 kWh, Battery discharge = 4.00 kWh, Battery level = 6.00 kWh\n",
            "Hour 8: Grid usage = 3.00 kWh, Battery charge = 0.00 kWh, Battery discharge = 1.00 kWh, Battery level = 5.00 kWh\n",
            "Hour 9: Grid usage = 9.00 kWh, Battery charge = 5.00 kWh, Battery discharge = 0.00 kWh, Battery level = 10.00 kWh\n",
            "Hour 10: Grid usage = 0.00 kWh, Battery charge = 0.00 kWh, Battery discharge = 4.00 kWh, Battery level = 6.00 kWh\n",
            "Hour 11: Grid usage = 0.00 kWh, Battery charge = 0.00 kWh, Battery discharge = 2.00 kWh, Battery level = 4.00 kWh\n",
            "Hour 12: Grid usage = 0.00 kWh, Battery charge = 0.00 kWh, Battery discharge = 2.00 kWh, Battery level = 2.00 kWh\n",
            "Hour 13: Grid usage = 0.00 kWh, Battery charge = 0.00 kWh, Battery discharge = 2.00 kWh, Battery level = 0.00 kWh\n",
            "Hour 14: Grid usage = 2.00 kWh, Battery charge = 0.00 kWh, Battery discharge = 0.00 kWh, Battery level = 0.00 kWh\n",
            "Hour 15: Grid usage = 2.00 kWh, Battery charge = 0.00 kWh, Battery discharge = 0.00 kWh, Battery level = 0.00 kWh\n",
            "Hour 16: Grid usage = 2.00 kWh, Battery charge = 0.00 kWh, Battery discharge = 0.00 kWh, Battery level = 0.00 kWh\n",
            "Hour 17: Grid usage = 1.00 kWh, Battery charge = 0.00 kWh, Battery discharge = 0.00 kWh, Battery level = 0.00 kWh\n",
            "Hour 18: Grid usage = 1.00 kWh, Battery charge = 0.00 kWh, Battery discharge = 0.00 kWh, Battery level = 0.00 kWh\n",
            "Hour 19: Grid usage = 1.00 kWh, Battery charge = 0.00 kWh, Battery discharge = 0.00 kWh, Battery level = 0.00 kWh\n",
            "Hour 20: Grid usage = 1.00 kWh, Battery charge = 0.00 kWh, Battery discharge = 0.00 kWh, Battery level = 0.00 kWh\n",
            "Hour 21: Grid usage = 1.00 kWh, Battery charge = 0.00 kWh, Battery discharge = 0.00 kWh, Battery level = 0.00 kWh\n",
            "Hour 22: Grid usage = 1.00 kWh, Battery charge = 0.00 kWh, Battery discharge = 0.00 kWh, Battery level = 0.00 kWh\n",
            "Hour 23: Grid usage = 1.00 kWh, Battery charge = 0.00 kWh, Battery discharge = 0.00 kWh, Battery level = 0.00 kWh\n",
            "Total cost: 5.20 $\n"
          ]
        }
      ]
    }
  ]
}